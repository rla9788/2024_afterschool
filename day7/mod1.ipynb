{
 "cells": [
  {
   "cell_type": "code",
   "execution_count": 1,
   "id": "faac2a85-2b94-471d-a565-9adda8cde620",
   "metadata": {},
   "outputs": [
    {
     "name": "stdout",
     "output_type": "stream",
     "text": [
      "5\n",
      "1\n"
     ]
    }
   ],
   "source": [
    "import mod1\n",
    "from mod1 import sub\n",
    "\n",
    "print(mod1.add(2, 3))\n",
    "print(sub(3, 2))"
   ]
  },
  {
   "cell_type": "code",
   "execution_count": null,
   "id": "69fd6134-1741-4ee8-957d-79edcfcb854e",
   "metadata": {},
   "outputs": [],
   "source": []
  }
 ],
 "metadata": {
  "kernelspec": {
   "display_name": "Python 3 (ipykernel)",
   "language": "python",
   "name": "python3"
  },
  "language_info": {
   "codemirror_mode": {
    "name": "ipython",
    "version": 3
   },
   "file_extension": ".py",
   "mimetype": "text/x-python",
   "name": "python",
   "nbconvert_exporter": "python",
   "pygments_lexer": "ipython3",
   "version": "3.10.9"
  }
 },
 "nbformat": 4,
 "nbformat_minor": 5
}
