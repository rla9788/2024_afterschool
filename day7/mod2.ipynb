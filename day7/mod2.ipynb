{
 "cells": [
  {
   "cell_type": "code",
   "execution_count": 1,
   "id": "59379bfe-77b7-4be3-9ceb-f030625b0743",
   "metadata": {},
   "outputs": [
    {
     "name": "stdout",
     "output_type": "stream",
     "text": [
      "<bound method Math.solv of <mod2.Math object at 0x00000238BB4E4910>>\n",
      "3.14\n"
     ]
    }
   ],
   "source": [
    "import mod2\n",
    "\n",
    "a = mod2.Math(3)\n",
    "print(a.solv)\n",
    "\n",
    "print(mod2.PI)"
   ]
  },
  {
   "cell_type": "code",
   "execution_count": null,
   "id": "639b4958-0e2c-4a82-8f7c-52557370975c",
   "metadata": {},
   "outputs": [],
   "source": []
  }
 ],
 "metadata": {
  "kernelspec": {
   "display_name": "Python 3 (ipykernel)",
   "language": "python",
   "name": "python3"
  },
  "language_info": {
   "codemirror_mode": {
    "name": "ipython",
    "version": 3
   },
   "file_extension": ".py",
   "mimetype": "text/x-python",
   "name": "python",
   "nbconvert_exporter": "python",
   "pygments_lexer": "ipython3",
   "version": "3.10.9"
  }
 },
 "nbformat": 4,
 "nbformat_minor": 5
}
