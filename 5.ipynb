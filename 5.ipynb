{
 "cells": [
  {
   "cell_type": "code",
   "execution_count": 1,
   "id": "e1ceab86",
   "metadata": {},
   "outputs": [
    {
     "name": "stdout",
     "output_type": "stream",
     "text": [
      "돈을 넣어주세요 >> 6\n",
      "메뉴를 골라주세요.\n",
      "1. 콜라: 1000원\n",
      "2. 사이다: 800원\n",
      "3. 물: 600원\n",
      "5\n",
      "음료 번호를 정확히 입력해 주세요.\n"
     ]
    }
   ],
   "source": [
    "coin = int(input('돈을 넣어주세요 >> '))\n",
    "drink = int(input('메뉴를 골라주세요.\\n1. 콜라: 1000원\\n2. 사이다: 800원\\n3. 물: 600원\\n'))\n",
    "\n",
    "if drink == 1:\n",
    "    coin -= 1000\n",
    "    print('콜라 구매')\n",
    "    print(f'잔돈은 {coin}원 입니다.')\n",
    "elif drink == 2:\n",
    "    coin -= 800\n",
    "    print('사이다 구매')\n",
    "    print(f'잔돈은 {coin}원 입니다.')\n",
    "elif drink == 3:\n",
    "    coin -= 600\n",
    "    print('물 구매')\n",
    "    print(f'잔돈은 {coin}원 입니다.')\n",
    "else:\n",
    "    print('음료 번호를 정확히 입력해 주세요.')"
   ]
  },
  {
   "cell_type": "code",
   "execution_count": 2,
   "id": "6b540dfb",
   "metadata": {
    "scrolled": false
   },
   "outputs": [
    {
     "name": "stdout",
     "output_type": "stream",
     "text": [
      "5\n",
      "     \n",
      "    *\n",
      "   ***\n",
      "  *****\n",
      " *******\n"
     ]
    }
   ],
   "source": [
    "for i in range(int(input())):\n",
    "    a = 5 - i\n",
    "    b = i * 2 - 1\n",
    "    print(' ' * a, end = '')\n",
    "    print('*' * b, end = '')\n",
    "    print('')"
   ]
  },
  {
   "cell_type": "code",
   "execution_count": 3,
   "id": "57119a7d",
   "metadata": {},
   "outputs": [],
   "source": [
    "import tkinter as tk\n",
    "\n",
    "window = tk.Tk()\n",
    "window.title(\"Tkinter Example\")\n",
    "\n",
    "label = tk.Label(window, text = 'Hello, Tkinter!', padx = 200, pady = 10)\n",
    "label.pack()\n",
    "\n",
    "window.mainloop()"
   ]
  },
  {
   "cell_type": "code",
   "execution_count": 4,
   "id": "b3739fbb",
   "metadata": {},
   "outputs": [],
   "source": [
    "import turtle\n",
    "\n",
    "t = turtle.Turtle()\n",
    "\n",
    "t.circle(100)"
   ]
  },
  {
   "cell_type": "code",
   "execution_count": 4,
   "id": "73c0b6e9",
   "metadata": {},
   "outputs": [],
   "source": [
    "import tkinter as tk\n",
    "\n",
    "def change_label_text():\n",
    "    if label.cget('text') == 'Hello, Tkinter!':\n",
    "        label.config(text = 'Button clicked!')\n",
    "    else:\n",
    "        label.config(text ='Hello, Tkinter!')\n",
    "window = tk.Tk()\n",
    "window.title('Tkinter Example')\n",
    "window.geometry('400x300')\n",
    "\n",
    "label = tk.Label(window, text = 'Hello, Tkinter!')\n",
    "label.pack()\n",
    "\n",
    "button = tk.Button(window, text = 'Click me!', command = change_label_text)\n",
    "button.pack()\n",
    "\n",
    "window.mainloop()"
   ]
  },
  {
   "cell_type": "code",
   "execution_count": null,
   "id": "db90ba21",
   "metadata": {},
   "outputs": [],
   "source": []
  }
 ],
 "metadata": {
  "kernelspec": {
   "display_name": "Python 3 (ipykernel)",
   "language": "python",
   "name": "python3"
  },
  "language_info": {
   "codemirror_mode": {
    "name": "ipython",
    "version": 3
   },
   "file_extension": ".py",
   "mimetype": "text/x-python",
   "name": "python",
   "nbconvert_exporter": "python",
   "pygments_lexer": "ipython3",
   "version": "3.10.9"
  }
 },
 "nbformat": 4,
 "nbformat_minor": 5
}
