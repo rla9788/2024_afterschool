{
 "cells": [
  {
   "cell_type": "code",
   "execution_count": 1,
   "id": "4493fdff",
   "metadata": {},
   "outputs": [
    {
     "name": "stderr",
     "output_type": "stream",
     "text": [
      "ERROR: Could not find a version that satisfies the requirement shelve (from versions: none)\n",
      "ERROR: No matching distribution found for shelve\n"
     ]
    }
   ],
   "source": [
    "!pip install shelve"
   ]
  },
  {
   "cell_type": "code",
   "execution_count": 2,
   "id": "d2392b36",
   "metadata": {},
   "outputs": [
    {
     "name": "stdout",
     "output_type": "stream",
     "text": [
      "{1, 2, 3, 4, 5}\n"
     ]
    }
   ],
   "source": [
    "my_list = [1, 2, 3, 4, 5]\n",
    "\n",
    "my_set = set(my_list)\n",
    "print(my_set)"
   ]
  },
  {
   "cell_type": "code",
   "execution_count": 3,
   "id": "72f971a9",
   "metadata": {},
   "outputs": [
    {
     "data": {
      "text/plain": [
       "list"
      ]
     },
     "execution_count": 3,
     "metadata": {},
     "output_type": "execute_result"
    }
   ],
   "source": [
    "type(my_list)"
   ]
  },
  {
   "cell_type": "code",
   "execution_count": 4,
   "id": "4172fe27",
   "metadata": {},
   "outputs": [],
   "source": [
    "my_list = list(my_set)"
   ]
  },
  {
   "cell_type": "code",
   "execution_count": 5,
   "id": "def8cf95",
   "metadata": {},
   "outputs": [
    {
     "data": {
      "text/plain": [
       "[1, 2, 3, 4, 5]"
      ]
     },
     "execution_count": 5,
     "metadata": {},
     "output_type": "execute_result"
    }
   ],
   "source": [
    "my_list"
   ]
  },
  {
   "cell_type": "code",
   "execution_count": 6,
   "id": "70292d4f",
   "metadata": {},
   "outputs": [
    {
     "name": "stdout",
     "output_type": "stream",
     "text": [
      "i: 80\n",
      "i: 75\n",
      "i: 55\n",
      "합계 210\n"
     ]
    }
   ],
   "source": [
    "grade = [80,75,55]\n",
    "\n",
    "hap = 0\n",
    "\n",
    "for i in grade: \n",
    "    print(\"i:\",i)\n",
    "    hap += i\n",
    "\n",
    "print(\"합계 %d\" % hap)"
   ]
  },
  {
   "cell_type": "code",
   "execution_count": 7,
   "id": "cc6c3986",
   "metadata": {},
   "outputs": [
    {
     "name": "stdout",
     "output_type": "stream",
     "text": [
      "Odd\n"
     ]
    }
   ],
   "source": [
    "if 13%2 == 0:\n",
    "    print(\"Even\")\n",
    "else:\n",
    "    print(\"Odd\")"
   ]
  },
  {
   "cell_type": "code",
   "execution_count": 8,
   "id": "146180a8",
   "metadata": {},
   "outputs": [
    {
     "name": "stdout",
     "output_type": "stream",
     "text": [
      "['881120', '1068234']\n"
     ]
    }
   ],
   "source": [
    "a = \"881120-1068234\"\n",
    "\n",
    "s = a.split(\"-\")\n",
    "print(s)"
   ]
  },
  {
   "cell_type": "code",
   "execution_count": 9,
   "id": "07a4c058",
   "metadata": {},
   "outputs": [
    {
     "name": "stdout",
     "output_type": "stream",
     "text": [
      "male\n"
     ]
    }
   ],
   "source": [
    "a = \"881120-1068234\"\n",
    "\n",
    "s = a.split(\"-\")\n",
    "\n",
    "if s[1][0] == '1' or '3':\n",
    "    print('male')\n",
    "elif s[1][0] == '2' or '4':\n",
    "    print('female')"
   ]
  },
  {
   "cell_type": "code",
   "execution_count": 10,
   "id": "da3d1b66",
   "metadata": {},
   "outputs": [
    {
     "name": "stdout",
     "output_type": "stream",
     "text": [
      "male\n"
     ]
    }
   ],
   "source": [
    "a = \"881120-4068234\"\n",
    "\n",
    "s = a.split(\"-\")\n",
    "\n",
    "if s[1][0] == '1' or '3':\n",
    "    print('male')\n",
    "elif s[1][0] == '2' or '4':\n",
    "    print('female')"
   ]
  },
  {
   "cell_type": "code",
   "execution_count": 11,
   "id": "4c440ae2",
   "metadata": {},
   "outputs": [
    {
     "data": {
      "text/plain": [
       "'a#b#c#d'"
      ]
     },
     "execution_count": 11,
     "metadata": {},
     "output_type": "execute_result"
    }
   ],
   "source": [
    "a = \"a:b:c:d\"\n",
    "\n",
    "a.replace(\":\",\"#\")"
   ]
  },
  {
   "cell_type": "code",
   "execution_count": 12,
   "id": "d6d89c1d",
   "metadata": {},
   "outputs": [
    {
     "data": {
      "text/plain": [
       "[5, 4, 3, 2, 1]"
      ]
     },
     "execution_count": 12,
     "metadata": {},
     "output_type": "execute_result"
    }
   ],
   "source": [
    "a = [1, 2, 3, 4, 5]\n",
    "a[::-1]"
   ]
  },
  {
   "cell_type": "code",
   "execution_count": 13,
   "id": "771a2fc5",
   "metadata": {},
   "outputs": [
    {
     "data": {
      "text/plain": [
       "'Life is too short'"
      ]
     },
     "execution_count": 13,
     "metadata": {},
     "output_type": "execute_result"
    }
   ],
   "source": [
    "s = ['Life', 'is', 'too', 'short'] \n",
    "\n",
    "\" \".join(s)"
   ]
  },
  {
   "cell_type": "code",
   "execution_count": 14,
   "id": "308ba618",
   "metadata": {},
   "outputs": [
    {
     "name": "stdout",
     "output_type": "stream",
     "text": [
      "(1, 2, 3, 4)\n"
     ]
    }
   ],
   "source": [
    "a = (1,2,3)\n",
    "b = (4,)\n",
    "c = a + b\n",
    "print(c)"
   ]
  },
  {
   "cell_type": "code",
   "execution_count": 15,
   "id": "71283614",
   "metadata": {},
   "outputs": [
    {
     "data": {
      "text/plain": [
       "80"
      ]
     },
     "execution_count": 15,
     "metadata": {},
     "output_type": "execute_result"
    }
   ],
   "source": [
    "a = {'A':90, 'B':80, 'C':70}\n",
    "a.pop('B')"
   ]
  },
  {
   "cell_type": "code",
   "execution_count": 16,
   "id": "939f7357",
   "metadata": {},
   "outputs": [
    {
     "data": {
      "text/plain": [
       "{1, 2, 3, 4, 5}"
      ]
     },
     "execution_count": 16,
     "metadata": {},
     "output_type": "execute_result"
    }
   ],
   "source": [
    "a = [1, 1, 1, 2, 2, 3, 3, 3, 4, 4, 5]\n",
    "set(a)"
   ]
  },
  {
   "cell_type": "code",
   "execution_count": 17,
   "id": "c3a2433a",
   "metadata": {},
   "outputs": [
    {
     "name": "stdout",
     "output_type": "stream",
     "text": [
      "[1, 4, 3]\n"
     ]
    }
   ],
   "source": [
    "a = b = [1, 2, 3] \n",
    "a[1] = 4 \n",
    "print(b)"
   ]
  },
  {
   "cell_type": "code",
   "execution_count": 18,
   "id": "872577de",
   "metadata": {},
   "outputs": [
    {
     "name": "stdout",
     "output_type": "stream",
     "text": [
      "간식을 산다\n"
     ]
    }
   ],
   "source": [
    "money = True \n",
    "\n",
    "if money:\n",
    "    print(\"간식을 산다\")\n",
    "else:\n",
    "    print(\"간식을 안산다\")"
   ]
  },
  {
   "cell_type": "code",
   "execution_count": 19,
   "id": "2b005f4b",
   "metadata": {},
   "outputs": [
    {
     "name": "stdout",
     "output_type": "stream",
     "text": [
      "case1\n"
     ]
    }
   ],
   "source": [
    "money = 300\n",
    "card = True\n",
    "\n",
    "if money >= 300:\n",
    "    if card:\n",
    "        print('case1')\n",
    "    else:\n",
    "        print('case2')\n",
    "else:\n",
    "    if card:\n",
    "        print('case3')\n",
    "    else:\n",
    "        print('case4')"
   ]
  },
  {
   "cell_type": "code",
   "execution_count": 20,
   "id": "0a2193e1",
   "metadata": {},
   "outputs": [
    {
     "data": {
      "text/plain": [
       "False"
      ]
     },
     "execution_count": 20,
     "metadata": {},
     "output_type": "execute_result"
    }
   ],
   "source": [
    "l = [1, 2, 3, 4]\n",
    "\n",
    "5 in l"
   ]
  },
  {
   "cell_type": "code",
   "execution_count": 21,
   "id": "1a3ffc17",
   "metadata": {},
   "outputs": [
    {
     "data": {
      "text/plain": [
       "4"
      ]
     },
     "execution_count": 21,
     "metadata": {},
     "output_type": "execute_result"
    }
   ],
   "source": [
    "a = [5, 3, 6, 2, 4]\n",
    "\n",
    "a.sort()\n",
    "a[len(a) // 2]"
   ]
  },
  {
   "cell_type": "code",
   "execution_count": 22,
   "id": "3f222dc8",
   "metadata": {},
   "outputs": [
    {
     "data": {
      "text/plain": [
       "[3, 5]"
      ]
     },
     "execution_count": 22,
     "metadata": {},
     "output_type": "execute_result"
    }
   ],
   "source": [
    "a = [5, 3, 6, 2]\n",
    "\n",
    "a.sort()\n",
    "a[(len(a) // 2) - 1:(len(a) // 2) + 1]"
   ]
  },
  {
   "cell_type": "code",
   "execution_count": 23,
   "id": "45f7e6a5",
   "metadata": {},
   "outputs": [
    {
     "name": "stdout",
     "output_type": "stream",
     "text": [
      "[3, 5]\n"
     ]
    }
   ],
   "source": [
    "a = [5, 3, 6, 2]\n",
    "\n",
    "a.sort()\n",
    "\n",
    "if len(a) % 2 == 0:\n",
    "    print(a[(len(a) // 2) - 1:(len(a) // 2) + 1])\n",
    "else:\n",
    "    print(a[len(a) // 2])"
   ]
  },
  {
   "cell_type": "code",
   "execution_count": 24,
   "id": "d0d02ead",
   "metadata": {},
   "outputs": [
    {
     "name": "stdout",
     "output_type": "stream",
     "text": [
      "Requirement already satisfied: opencv-python in c:\\users\\user\\anaconda3\\lib\\site-packages (4.9.0.80)\n",
      "Requirement already satisfied: numpy>=1.21.2 in c:\\users\\user\\anaconda3\\lib\\site-packages (from opencv-python) (1.23.5)\n"
     ]
    }
   ],
   "source": [
    "!pip install opencv-python"
   ]
  },
  {
   "cell_type": "code",
   "execution_count": 34,
   "id": "23f59d20",
   "metadata": {},
   "outputs": [],
   "source": [
    "import cv2\n",
    "\n",
    "#이미지 파일 경로\n",
    "image_path = 'sample.jpg'\n",
    "\n",
    "# 이미지 로드\n",
    "image = cv2.imread(image_path)\n",
    "\n",
    "# 이미지 흑백 변환\n",
    "gray_image = cv2.cvtColor(image, cv2.COLOR_BGR2GRAY)\n",
    "\n",
    "# 윈도우에 이미지 표시\n",
    "cv2.imshow('Original Image', image)\n",
    "\n",
    "# 키 입력 대기 (아무 키나 누르면 윈도우 닫힘)\n",
    "cv2.waitKey(0)\n",
    "\n",
    "# 모든 윈도우 \n",
    "cv2.destroyAllWindows()"
   ]
  },
  {
   "cell_type": "code",
   "execution_count": 32,
   "id": "3cf2e3b9",
   "metadata": {},
   "outputs": [
    {
     "name": "stdout",
     "output_type": "stream",
     "text": [
      "Both x and y are positive.\n"
     ]
    }
   ],
   "source": [
    "x = 5\n",
    "y = 10\n",
    "\n",
    "if x > 0 or y > 0:\n",
    "    print('Both x and y are positive.')\n",
    "else:\n",
    "    print('negative.')"
   ]
  },
  {
   "cell_type": "code",
   "execution_count": 33,
   "id": "6fb77867",
   "metadata": {},
   "outputs": [
    {
     "name": "stdout",
     "output_type": "stream",
     "text": [
      "It's raining\n"
     ]
    }
   ],
   "source": [
    "is_raining = True\n",
    "\n",
    "if not is_raining:\n",
    "    print(\"It's not raining.\")\n",
    "else:\n",
    "    print(\"It's raining\")"
   ]
  },
  {
   "cell_type": "code",
   "execution_count": 35,
   "id": "bb629de6",
   "metadata": {},
   "outputs": [
    {
     "data": {
      "text/plain": [
       "array([[[186, 217, 232],\n",
       "        [186, 217, 232],\n",
       "        [186, 217, 232],\n",
       "        ...,\n",
       "        [142, 154, 160],\n",
       "        [142, 154, 160],\n",
       "        [142, 154, 160]],\n",
       "\n",
       "       [[186, 217, 232],\n",
       "        [186, 217, 232],\n",
       "        [186, 217, 232],\n",
       "        ...,\n",
       "        [142, 154, 160],\n",
       "        [142, 154, 160],\n",
       "        [142, 154, 160]],\n",
       "\n",
       "       [[186, 217, 232],\n",
       "        [186, 217, 232],\n",
       "        [186, 217, 232],\n",
       "        ...,\n",
       "        [142, 154, 160],\n",
       "        [142, 154, 160],\n",
       "        [142, 154, 160]],\n",
       "\n",
       "       ...,\n",
       "\n",
       "       [[197, 228, 243],\n",
       "        [197, 228, 243],\n",
       "        [197, 228, 243],\n",
       "        ...,\n",
       "        [ 70, 113, 100],\n",
       "        [ 70, 113, 100],\n",
       "        [ 70, 113, 100]],\n",
       "\n",
       "       [[197, 228, 243],\n",
       "        [197, 228, 243],\n",
       "        [197, 228, 243],\n",
       "        ...,\n",
       "        [ 70, 113, 100],\n",
       "        [ 70, 113, 100],\n",
       "        [ 69, 112,  99]],\n",
       "\n",
       "       [[197, 228, 243],\n",
       "        [197, 228, 243],\n",
       "        [197, 228, 243],\n",
       "        ...,\n",
       "        [ 70, 113, 100],\n",
       "        [ 69, 112,  99],\n",
       "        [ 69, 112,  99]]], dtype=uint8)"
      ]
     },
     "execution_count": 35,
     "metadata": {},
     "output_type": "execute_result"
    }
   ],
   "source": [
    "image"
   ]
  },
  {
   "cell_type": "code",
   "execution_count": 37,
   "id": "19068e7e",
   "metadata": {},
   "outputs": [],
   "source": [
    "import numpy as np\n",
    "import cv2\n",
    "\n",
    "width = 400\n",
    "height = 300\n",
    "\n",
    "# 붉은 색을 나타내는 numpy 배열 생성\n",
    "red_color = np.full((height, width, 3), (0, 0, 255), dtype = np.uint8)\n",
    "\n",
    "# 이미지 윈도우에 표시\n",
    "cv2.imshow('Red Image', red_color)\n",
    "cv2.waitKey(0)\n",
    "cv2.destroyAllWindows()"
   ]
  },
  {
   "cell_type": "code",
   "execution_count": null,
   "id": "739208f5",
   "metadata": {},
   "outputs": [],
   "source": []
  }
 ],
 "metadata": {
  "kernelspec": {
   "display_name": "Python 3 (ipykernel)",
   "language": "python",
   "name": "python3"
  },
  "language_info": {
   "codemirror_mode": {
    "name": "ipython",
    "version": 3
   },
   "file_extension": ".py",
   "mimetype": "text/x-python",
   "name": "python",
   "nbconvert_exporter": "python",
   "pygments_lexer": "ipython3",
   "version": "3.10.9"
  }
 },
 "nbformat": 4,
 "nbformat_minor": 5
}
