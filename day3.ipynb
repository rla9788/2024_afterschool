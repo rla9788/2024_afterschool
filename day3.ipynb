{
 "cells": [
  {
   "cell_type": "code",
   "execution_count": 6,
   "id": "c58f8efe",
   "metadata": {
    "scrolled": true
   },
   "outputs": [
    {
     "name": "stdout",
     "output_type": "stream",
     "text": [
      "WED\n",
      "없는\n",
      "{'월': 'MON', '화': 'TUE', '수': 'WED', '목': 'THU'}\n",
      "{'월': 'monday', '화': 'TUE', '수': 'WED', '목': 'THU'}\n",
      "none\n",
      "{'월': 'monday', '화': 'TUE', '수': 'WED', '목': 'THU'}\n",
      "dict_values(['monday', 'TUE', 'WED', 'THU'])\n",
      "dict_keys(['월', '화', '수', '목'])\n",
      "dict_items([('월', 'monday'), ('화', 'TUE'), ('수', 'WED'), ('목', 'THU')])\n",
      "monday\n",
      "{'화': 'TUE', '수': 'WED', '목': 'THU'}\n"
     ]
    }
   ],
   "source": [
    "week = {'월':'MON', '화':'TUE', '수':'WED'}\n",
    "print(week['수'])\n",
    "print(week.get('목','없는'))\n",
    "week['목'] = 'THU'\n",
    "print(week)\n",
    "week['월'] = 'monday'\n",
    "print(week)\n",
    "print(week.pop('월1','none'))\n",
    "print(week)\n",
    "print(week.values())\n",
    "print(week.keys())\n",
    "print(week.items())\n",
    "\n",
    "pop1 = week.pop('월')\n",
    "print(pop1)\n",
    "print(week)"
   ]
  },
  {
   "cell_type": "code",
   "execution_count": 7,
   "id": "0b2dab0c",
   "metadata": {},
   "outputs": [
    {
     "name": "stdout",
     "output_type": "stream",
     "text": [
      "[1, 2, 3, 4, 5]\n"
     ]
    }
   ],
   "source": [
    "import shelve\n",
    "\n",
    "def save(key, value):\n",
    "    with shelve.open('shelve.dot') as d:\n",
    "        d[key] = value\n",
    "        \n",
    "def get(key):\n",
    "    with shelve.open('shelve.dot') as d:\n",
    "        return d[key]\n",
    "    \n",
    "save('number', [1, 2, 3, 4, 5])\n",
    "print(get('number'))"
   ]
  },
  {
   "cell_type": "code",
   "execution_count": 9,
   "id": "433b2afd",
   "metadata": {},
   "outputs": [
    {
     "name": "stdout",
     "output_type": "stream",
     "text": [
      "\n",
      "1. 학생 정보 추가\n",
      "2. 학생 정보 검색\n",
      "3. 종료\n",
      "선택하세요: 1\n",
      "학생 번호를 입력하세요: 3\n",
      "학생 이름을 입력하세요: 김지우\n",
      "학생 나이를 입력하세요: 19\n",
      "학생 전공을 입력하세요: 스마트\n",
      "\n",
      "1. 학생 정보 추가\n",
      "2. 학생 정보 검색\n",
      "3. 종료\n",
      "선택하세요: 2\n",
      "검색할 학생 번호를 입력하세요: 3\n",
      "학생 번호: 3, 이름: 김지우, 나이:19,전공:스마트\n",
      "\n",
      "1. 학생 정보 추가\n",
      "2. 학생 정보 검색\n",
      "3. 종료\n",
      "선택하세요: 3\n"
     ]
    }
   ],
   "source": [
    "import shelve\n",
    "\n",
    "def add_student_info(student_dict):\n",
    "    student_number = input(\"학생 번호를 입력하세요: \")\n",
    "    name = input(\"학생 이름을 입력하세요: \")\n",
    "    age = input(\"학생 나이를 입력하세요: \")\n",
    "    major = input(\"학생 전공을 입력하세요: \")\n",
    "\n",
    "    student_dict[student_number]={'name':name,'age':age,'major':major}\n",
    "def search_student_info(student_dict):\n",
    "    student_number = input(\"검색할 학생 번호를 입력하세요: \")\n",
    "    if student_number in student_dict:\n",
    "        info = student_dict[student_number]\n",
    "        print(f\"학생 번호: {student_number}, 이름: {info['name']}, 나이:{info['age']},전공:{info['major']}\")\n",
    "    else:\n",
    "            print(\"해당하는 학생의 정보를 찾을 수 없습니다\")\n",
    "            \n",
    "            \n",
    "def main():\n",
    "        with shelve.open('student_data') as shelf:\n",
    "            if 'students' not in shelf:\n",
    "                shelf['students'] = {}\n",
    "            student_dict=shelf['students']\n",
    "            while True:\n",
    "                print(\"\\n1. 학생 정보 추가\")\n",
    "                print(\"2. 학생 정보 검색\")\n",
    "                print(\"3. 종료\")\n",
    "                \n",
    "                choice = input(\"선택하세요: \")\n",
    "                \n",
    "                if choice == '1':\n",
    "                    add_student_info(student_dict)\n",
    "                elif choice == '2':\n",
    "                    search_student_info(student_dict)\n",
    "                elif choice == '3':\n",
    "                    break\n",
    "                else:\n",
    "                    print(\"올바른 선택이 아닙니다. 다시 선택해 주세요.\")\n",
    "            shelf['students'] = student_dict\n",
    "\n",
    "            \n",
    "if __name__ ==\"__main__\":\n",
    "    main()"
   ]
  },
  {
   "cell_type": "code",
   "execution_count": null,
   "id": "152e9c7d",
   "metadata": {},
   "outputs": [],
   "source": []
  }
 ],
 "metadata": {
  "kernelspec": {
   "display_name": "Python 3 (ipykernel)",
   "language": "python",
   "name": "python3"
  },
  "language_info": {
   "codemirror_mode": {
    "name": "ipython",
    "version": 3
   },
   "file_extension": ".py",
   "mimetype": "text/x-python",
   "name": "python",
   "nbconvert_exporter": "python",
   "pygments_lexer": "ipython3",
   "version": "3.10.9"
  }
 },
 "nbformat": 4,
 "nbformat_minor": 5
}
