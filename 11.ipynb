{
 "cells": [
  {
   "cell_type": "code",
   "execution_count": 28,
   "id": "a01cc6fb",
   "metadata": {},
   "outputs": [
    {
     "name": "stdout",
     "output_type": "stream",
     "text": [
      "      Name  Age  Score\n",
      "0    Alice   25     85\n",
      "1      Bob   30     90\n",
      "2  Charlie   35     95\n",
      "3    David   40     80\n",
      "4      Eva   45     70\n",
      "             Age      Score\n",
      "count   5.000000   5.000000\n",
      "mean   35.000000  84.000000\n",
      "std     7.905694   9.617692\n",
      "min    25.000000  70.000000\n",
      "25%    30.000000  80.000000\n",
      "50%    35.000000  85.000000\n",
      "75%    40.000000  90.000000\n",
      "max    45.000000  95.000000 \n",
      "\n",
      "35.0\n",
      "35.0\n",
      "25\n",
      "45\n",
      "7.905694150420948 \n",
      "\n",
      "          Age  Score\n",
      "Name                \n",
      "Alice    25.0   85.0\n",
      "Bob      30.0   90.0\n",
      "Charlie  35.0   95.0\n",
      "David    40.0   80.0\n",
      "Eva      45.0   70.0\n"
     ]
    }
   ],
   "source": [
    "import pandas as pd\n",
    "\n",
    "data = {'Name':['Alice', 'Bob', 'Charlie', 'David', 'Eva'],\n",
    "       'Age':[25, 30, 35, 40, 45],\n",
    "       'Score':[85, 90, 95, 80, 70]}\n",
    "\n",
    "df = pd.DataFrame(data)\n",
    "\n",
    "print(df, '\\n')\n",
    "\n",
    "# 데이터 프레임의 기본 통계 출력\n",
    "print(df.describe(),'\\n')\n",
    "\n",
    "print(df['Age'].mean())\n",
    "print(df['Age'].median())\n",
    "print(df['Age'].min())\n",
    "print(df['Age'].max())\n",
    "print(df['Age'].std(), '\\n')\n",
    "\n",
    "print(df.groupby(df['Name']).mean())"
   ]
  },
  {
   "cell_type": "code",
   "execution_count": 29,
   "id": "5387b655",
   "metadata": {},
   "outputs": [
    {
     "data": {
      "image/png": "[encoded data removed]",
      "text/plain": [
       "<Figure size 640x480 with 1 Axes>"
      ]
     },
     "metadata": {},
     "output_type": "display_data"
    }
   ],
   "source": [
    "import matplotlib.pyplot as plt\n",
    "\n",
    "df.plot(kind='bar',x='Name',y='Score',title='Scores by Name')\n",
    "plt.xlabel('Name')\n",
    "plt.ylabel('Score')\n",
    "plt.show()"
   ]
  },
  {
   "cell_type": "code",
   "execution_count": 34,
   "id": "3f496cf9",
   "metadata": {},
   "outputs": [
    {
     "name": "stdout",
     "output_type": "stream",
     "text": [
      "DataFrame sorted by Score(descending);\n",
      "      Name  Age  Score\n",
      "4      Eva   45     70\n",
      "3    David   40     80\n",
      "0    Alice   25     85\n",
      "1      Bob   30     90\n",
      "2  Charlie   35     95\n"
     ]
    }
   ],
   "source": [
    "df_sorted=df.sort_values(by='Score',ascending=True)\n",
    "print('DataFrame sorted by Score(descending);')\n",
    "print(df_sorted)"
   ]
  },
  {
   "cell_type": "code",
   "execution_count": 35,
   "id": "66267a2a",
   "metadata": {},
   "outputs": [
    {
     "name": "stdout",
     "output_type": "stream",
     "text": [
      "New DataFrame;\n",
      "      Name  Age  Score\n",
      "0      Eva   45     70\n",
      "1    David   40     80\n",
      "2    Alice   25     85\n",
      "3      Bob   30     90\n",
      "4  Charlie   35     95\n"
     ]
    }
   ],
   "source": [
    "new_df=df_sorted.reset_index(drop=True)\n",
    "print('New DataFrame;')\n",
    "print(new_df)"
   ]
  },
  {
   "cell_type": "code",
   "execution_count": null,
   "id": "b71cffc6",
   "metadata": {},
   "outputs": [],
   "source": []
  }
 ],
 "metadata": {
  "kernelspec": {
   "display_name": "Python 3 (ipykernel)",
   "language": "python",
   "name": "python3"
  },
  "language_info": {
   "codemirror_mode": {
    "name": "ipython",
    "version": 3
   },
   "file_extension": ".py",
   "mimetype": "text/x-python",
   "name": "python",
   "nbconvert_exporter": "python",
   "pygments_lexer": "ipython3",
   "version": "3.10.9"
  }
 },
 "nbformat": 4,
 "nbformat_minor": 5
}
