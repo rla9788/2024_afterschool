{
 "cells": [
  {
   "cell_type": "code",
   "execution_count": 12,
   "id": "cd6322ac-dde1-4aa0-9fd3-c9ba3a943d8c",
   "metadata": {},
   "outputs": [],
   "source": [
    "class student:\n",
    "    num = -1\n",
    "    name = ''\n",
    "    \n",
    "    def __init__(self, num, name):\n",
    "        self.num = num\n",
    "        self.name = name\n",
    "        \n",
    "    def get_info(self):\n",
    "        return [self.num, self.name]"
   ]
  },
  {
   "cell_type": "code",
   "execution_count": 15,
   "id": "f337f123-131e-4b1f-b530-4f0804576de1",
   "metadata": {},
   "outputs": [],
   "source": [
    "class room:\n",
    "    num = -1\n",
    "    \n",
    "    def __init__(self, num):\n",
    "        self.num = num\n",
    "        self.stu_dict = dict()\n",
    "        \n",
    "    def is_in_stu_num(self, num):\n",
    "        if num in self.stu_dict:\n",
    "            return True\n",
    "        else:\n",
    "            return False\n",
    "        \n",
    "    def get_stu_info(self, num):\n",
    "        try:\n",
    "            return self.stu_dict[num]\n",
    "        except KeyError:\n",
    "            return ''\n",
    "    def add_stu(self, stu):\n",
    "        self.stu_dict[stu.get_info()[0]] = stu.get_info()[1]\n",
    "        \n",
    "    def del_stu(self, num):\n",
    "        try:\n",
    "            self.stu_dict[num]\n",
    "        except KeyError:\n",
    "            pass\n",
    "    def mod_stu(self, stu_num, stu_name):\n",
    "        try:\n",
    "            self.stu_dict[stu_num] = stu_name\n",
    "        except KeyError:\n",
    "            pass"
   ]
  },
  {
   "cell_type": "code",
   "execution_count": 19,
   "id": "f969313f-ecc4-458b-b0c0-9203fa5d9ce1",
   "metadata": {},
   "outputs": [
    {
     "data": {
      "text/plain": [
       "{1: 'hong', 2: 'lee'}"
      ]
     },
     "execution_count": 19,
     "metadata": {},
     "output_type": "execute_result"
    }
   ],
   "source": [
    "student1 = student(1,'hong')\n",
    "room1 = room(1)\n",
    "\n",
    "room1.add_stu(student1)\n",
    "room1.mod_stu(2,'lee')\n",
    "\n",
    "room1.stu_dict"
   ]
  },
  {
   "cell_type": "code",
   "execution_count": 20,
   "id": "8ddc7fea-bc9d-43c4-8daa-07f2d3d20912",
   "metadata": {},
   "outputs": [
    {
     "data": {
      "text/plain": [
       "{1: 'lee'}"
      ]
     },
     "execution_count": 20,
     "metadata": {},
     "output_type": "execute_result"
    }
   ],
   "source": [
    "student1 = student(1,'hong')\n",
    "room1 = room(1)\n",
    "\n",
    "room1.add_stu(student1)\n",
    "room1.mod_stu(1,'lee')\n",
    "\n",
    "room1.stu_dict"
   ]
  },
  {
   "cell_type": "code",
   "execution_count": 5,
   "id": "aec404e4-76b0-448b-8dcb-b13eb0153fff",
   "metadata": {},
   "outputs": [
    {
     "name": "stdin",
     "output_type": "stream",
     "text": [
      "이름을 입력하세요:  김지우\n",
      "나이를 입력하세요:  16\n",
      "도시를 입력하세요:  성남\n"
     ]
    },
    {
     "name": "stdout",
     "output_type": "stream",
     "text": [
      "{'name': '김지우', 'age': 16, 'city': '성남'}\n"
     ]
    }
   ],
   "source": [
    "my_dict = {}\n",
    "\n",
    "name = input('이름을 입력하세요: ')\n",
    "age = int(input('나이를 입력하세요: '))\n",
    "city = input('도시를 입력하세요: ')\n",
    "          \n",
    "my_dict['name'] = name\n",
    "my_dict['age'] = age\n",
    "my_dict['city'] = city\n",
    "          \n",
    "type(my_dict)\n",
    "print(my_dict)"
   ]
  },
  {
   "cell_type": "code",
   "execution_count": 22,
   "id": "e2b8ba9d-c034-403c-b738-bb85123dc269",
   "metadata": {},
   "outputs": [],
   "source": [
    "class manager:\n",
    "    def __init__(self):\n",
    "        self.room_dict = dict()\n",
    "        \n",
    "    def add_room(self):\n",
    "        self.room_dict[len(self.room_dict) + 1] = room(len(self.room_dict) + 1)\n",
    "        \n",
    "    def add_stu(self, room_num, stu):\n",
    "        try:\n",
    "            self.room_dict[room_num].add_stu(stu)\n",
    "        except KeyError:\n",
    "            print('없는 교실입니다.')\n",
    "    def del_stu(self, stu_num):\n",
    "        for i in range(leb(self.room_dict)):\n",
    "            self.room_dict[i + 1].del_stu(stu_num)\n",
    "    def mod_stu(self, stu_num, mod_name):\n",
    "        for i in range(len(self.room_dict)):\n",
    "            self.room_dict[i + 1].mod_stu(stu_name)\n",
    "    def print_stu(self, stu_num):\n",
    "        for i in range(len(self.room_dict)):\n",
    "            value = self.room_dict[i + 1].get_stu_info(stu_num)\n",
    "            if len(value) != 0:\n",
    "                print(value)\n",
    "                break\n",
    "    def show_room(self):\n",
    "        print(f'현재 {str(self.room_dict)}의 교실이 있습니다.')"
   ]
  }
 ],
 "metadata": {
  "kernelspec": {
   "display_name": "Python 3 (ipykernel)",
   "language": "python",
   "name": "python3"
  },
  "language_info": {
   "codemirror_mode": {
    "name": "ipython",
    "version": 3
   },
   "file_extension": ".py",
   "mimetype": "text/x-python",
   "name": "python",
   "nbconvert_exporter": "python",
   "pygments_lexer": "ipython3",
   "version": "3.10.9"
  }
 },
 "nbformat": 4,
 "nbformat_minor": 5
}
